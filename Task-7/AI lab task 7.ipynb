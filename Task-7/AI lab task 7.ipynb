{
 "cells": [
  {
   "cell_type": "code",
   "execution_count": 2,
   "id": "082c52b1",
   "metadata": {},
   "outputs": [
    {
     "name": "stdout",
     "output_type": "stream",
     "text": [
      " Best route discovered: ['X', 'Y', 'W']\n"
     ]
    },
    {
     "data": {
      "text/plain": [
       "['X', 'Y', 'W']"
      ]
     },
     "execution_count": 2,
     "metadata": {},
     "output_type": "execute_result"
    }
   ],
   "source": [
    "from collections import deque\n",
    "\n",
    "class PathFinder:\n",
    "    def __init__(self, graph):\n",
    "        self.graph = graph\n",
    "\n",
    "    def heuristic(self, node):\n",
    "        heuristics = {\n",
    "            'A': 1,\n",
    "            'B': 1,\n",
    "            'C': 1,\n",
    "            'D': 1\n",
    "        }\n",
    "        return heuristics[node]\n",
    "\n",
    "    def a_star(self, start, goal):\n",
    "        open_nodes = set([start])\n",
    "        closed_nodes = set([])\n",
    "\n",
    "        g_cost = {start: 0}\n",
    "        parent = {start: start}\n",
    "\n",
    "        while open_nodes:\n",
    "            current = None\n",
    "\n",
    "            for node in open_nodes:\n",
    "                if current is None or g_cost[node] + self.heuristic(node) < g_cost[current] + self.heuristic(current):\n",
    "                    current = node\n",
    "\n",
    "            if current is None:\n",
    "                print(\"No route could be found!\")\n",
    "                return None\n",
    "\n",
    "            if current == goal:\n",
    "                route = []\n",
    "                while parent[current] != current:\n",
    "                    route.append(current)\n",
    "                    current = parent[current]\n",
    "                route.append(start)\n",
    "                route.reverse()\n",
    "                mapping = {'A': 'X', 'B': 'Y', 'C': 'Z', 'D': 'W'}\n",
    "                converted_route = [mapping.get(node, node) for node in route]\n",
    "\n",
    "                print(f\" Best route discovered: {converted_route}\")\n",
    "                return converted_route\n",
    "\n",
    "            for (neighbor, cost) in self.graph[current]:\n",
    "                if neighbor not in open_nodes and neighbor not in closed_nodes:\n",
    "                    open_nodes.add(neighbor)\n",
    "                    parent[neighbor] = current\n",
    "                    g_cost[neighbor] = g_cost[current] + cost\n",
    "                else:\n",
    "                    if g_cost[neighbor] > g_cost[current] + cost:\n",
    "                        g_cost[neighbor] = g_cost[current] + cost\n",
    "                        parent[neighbor] = current\n",
    "\n",
    "                        if neighbor in closed_nodes:\n",
    "                            closed_nodes.remove(neighbor)\n",
    "                            open_nodes.add(neighbor)\n",
    "\n",
    "            open_nodes.remove(current)\n",
    "            closed_nodes.add(current)\n",
    "\n",
    "        print(\"Route does not exist!\")\n",
    "        return None\n",
    "\n",
    "graph_data = {\n",
    "    'A': [('B', 1), ('C', 3), ('D', 7)],\n",
    "    'B': [('D', 5)],\n",
    "    'C': [('D', 12)]\n",
    "}\n",
    "\n",
    "finder = PathFinder(graph_data)\n",
    "finder.a_star('A', 'D')\n"
   ]
  }
 ],
 "metadata": {
  "kernelspec": {
   "display_name": "Python 3",
   "language": "python",
   "name": "python3"
  },
  "language_info": {
   "codemirror_mode": {
    "name": "ipython",
    "version": 3
   },
   "file_extension": ".py",
   "mimetype": "text/x-python",
   "name": "python",
   "nbconvert_exporter": "python",
   "pygments_lexer": "ipython3",
   "version": "3.13.7"
  }
 },
 "nbformat": 4,
 "nbformat_minor": 5
}
