{
 "cells": [
  {
   "cell_type": "code",
   "execution_count": 12,
   "id": "ca5d147c",
   "metadata": {},
   "outputs": [
    {
     "name": "stdout",
     "output_type": "stream",
     "text": [
      "A\n",
      "B\n",
      "C\n",
      "D\n",
      "E\n",
      "F\n"
     ]
    }
   ],
   "source": [
    "def my_bfs(network, startNode):\n",
    "    doneNodes = set()          \n",
    "    queue = [startNode]        \n",
    "\n",
    "    while queue:               \n",
    "        current = queue.pop(0)  \n",
    "        if current not in doneNodes:\n",
    "            print(current)      \n",
    "            doneNodes.add(current)\n",
    "\n",
    "            for n in network[current]:\n",
    "                if n not in doneNodes:\n",
    "                    queue.append(n)\n",
    "\n",
    "network = {\n",
    "    'A': ['B', 'C'],\n",
    "    'B': ['D', 'E'],\n",
    "    'C': ['F'],\n",
    "    'D': [],\n",
    "    'E': ['F'],\n",
    "    'F': []\n",
    "}\n",
    "\n",
    "my_bfs(network, 'A')\n",
    "\n"
   ]
  },
  {
   "cell_type": "code",
   "execution_count": 11,
   "id": "bba6f844",
   "metadata": {},
   "outputs": [
    {
     "name": "stdout",
     "output_type": "stream",
     "text": [
      "A\n",
      "B\n",
      "C\n",
      "D\n",
      "E\n",
      "F\n"
     ]
    }
   ],
   "source": [
    "def bfs_with_queues(graph, start):\n",
    "    visited = set()\n",
    "    queue = [start]  \n",
    "    \n",
    "    while queue:\n",
    "        vertex = queue.pop(0)  \n",
    "        if vertex not in visited:\n",
    "            print(vertex)          \n",
    "            visited.add(vertex)\n",
    "\n",
    "            for neighbor in graph[vertex]:\n",
    "                if neighbor not in visited:\n",
    "                    queue.append(neighbor)\n",
    "\n",
    "graph = {\n",
    "    'A': ['B', 'C'],\n",
    "    'B': ['D', 'E'],\n",
    "    'C': ['F'],\n",
    "    'D': [],\n",
    "    'E': ['F'],\n",
    "    'F': []\n",
    "}\n",
    "\n",
    "bfs_with_queues(graph, 'A')"
   ]
  }
 ],
 "metadata": {
  "kernelspec": {
   "display_name": "Python 3",
   "language": "python",
   "name": "python3"
  },
  "language_info": {
   "codemirror_mode": {
    "name": "ipython",
    "version": 3
   },
   "file_extension": ".py",
   "mimetype": "text/x-python",
   "name": "python",
   "nbconvert_exporter": "python",
   "pygments_lexer": "ipython3",
   "version": "3.13.7"
  }
 },
 "nbformat": 4,
 "nbformat_minor": 5
}
