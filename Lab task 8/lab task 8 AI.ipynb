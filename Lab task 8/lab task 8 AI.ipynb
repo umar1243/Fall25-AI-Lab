{
 "cells": [
  {
   "cell_type": "code",
   "execution_count": null,
   "id": "5d5d109b",
   "metadata": {},
   "outputs": [
    {
     "name": "stdout",
     "output_type": "stream",
     "text": [
      "3.0\n",
      "4.0\n"
     ]
    }
   ],
   "source": [
    "import math\n",
    "values=[3,2,5,6,7,7,8,9]\n",
    "print(math.log(8,2))\n",
    "\n",
    "values=[3,2,5,6,7,7,8,9,3,2,5,6,7,7,8,9]\n",
    "print(math.log(16, 2))\n",
    "\n",
    "\n"
   ]
  },
  {
   "cell_type": "code",
   "execution_count": 17,
   "id": "e3b05b6c",
   "metadata": {},
   "outputs": [
    {
     "name": "stdout",
     "output_type": "stream",
     "text": [
      "7\n"
     ]
    }
   ],
   "source": [
    "import math\n",
    "\n",
    "values = [3, 2, 5, 6, 7, 7, 8, 9]\n",
    "levels = int(math.log(len(values), 2))  \n",
    "\n",
    "def minimaxalgo(curlevel, nodeIndex, isMinTurn, values, totalLevels):\n",
    "    if curlevel == totalLevels:\n",
    "        return values[nodeIndex]\n",
    "    \n",
    "    if isMinTurn:\n",
    "        return min(\n",
    "            minimaxalgo(curlevel + 1, nodeIndex * 2, False, values, totalLevels),\n",
    "            minimaxalgo(curlevel + 1, nodeIndex * 2 + 1, False, values, totalLevels)\n",
    "        )\n",
    "    else:\n",
    "        return max(\n",
    "            minimaxalgo(curlevel + 1, nodeIndex * 2, True, values, totalLevels),\n",
    "            minimaxalgo(curlevel + 1, nodeIndex * 2 + 1, True, values, totalLevels)\n",
    "        )\n",
    "\n",
    "print(minimaxalgo(0, 0, False, values, levels))\n"
   ]
  },
  {
   "cell_type": "code",
   "execution_count": 1,
   "id": "eea3685f",
   "metadata": {},
   "outputs": [
    {
     "name": "stdout",
     "output_type": "stream",
     "text": [
      "The optimal value is: 5\n"
     ]
    }
   ],
   "source": [
    "import math\n",
    "\n",
    "def minimax(curDepth, nodeIndex, maxTurn, scores, targetDepth):\n",
    "    if curDepth == targetDepth:\n",
    "        return scores[nodeIndex]\n",
    "\n",
    "    if maxTurn:\n",
    "        return max(\n",
    "            minimax(curDepth + 1, nodeIndex * 2, False, scores, targetDepth),\n",
    "            minimax(curDepth + 1, nodeIndex * 2 + 1, False, scores, targetDepth)\n",
    "        )\n",
    "    else:\n",
    "        return min(\n",
    "            minimax(curDepth + 1, nodeIndex * 2, True, scores, targetDepth),\n",
    "            minimax(curDepth + 1, nodeIndex * 2 + 1, True, scores, targetDepth)\n",
    "        )\n",
    "\n",
    "\n",
    "\n",
    "scores = [3, 5, 2, 9, 3, 5, 2, 9]    \n",
    "treeDepth = int(math.log(len(scores), 2)) \n",
    "\n",
    "print(\"The optimal value is:\", minimax(0, 0, True, scores, treeDepth))\n"
   ]
  }
 ],
 "metadata": {
  "kernelspec": {
   "display_name": "Python 3",
   "language": "python",
   "name": "python3"
  },
  "language_info": {
   "codemirror_mode": {
    "name": "ipython",
    "version": 3
   },
   "file_extension": ".py",
   "mimetype": "text/x-python",
   "name": "python",
   "nbconvert_exporter": "python",
   "pygments_lexer": "ipython3",
   "version": "3.13.7"
  }
 },
 "nbformat": 4,
 "nbformat_minor": 5
}
