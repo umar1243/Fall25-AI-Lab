{
 "cells": [
  {
   "cell_type": "code",
   "execution_count": 33,
   "metadata": {},
   "outputs": [
    {
     "name": "stdout",
     "output_type": "stream",
     "text": [
      "exist\n",
      "exist\n",
      "['A', 'B', 'D']\n"
     ]
    }
   ],
   "source": [
    "tree = {\n",
    "    \"A\": ['B', 'C'],\n",
    "    \"B\" :['D', 'E'],\n",
    "    \"C\":['F'],\n",
    "    \"D\": [],\n",
    "    \"E\": [],\n",
    "    \"F\":['G'],\n",
    "    'G':[]\n",
    "}\n",
    "\n",
    "visited = list()\n",
    "start = \"A\"\n",
    "goal = \"D\"\n",
    "def dfs (start, goal):\n",
    "    if goal not in visited: \n",
    "        visited.append(start)\n",
    "        for i in tree [start]:    \n",
    "            dfs(i,goal)\n",
    "    else:\n",
    "        print('exist')\n",
    "dfs(start,goal)\n",
    "print(visited)\n"
   ]
  }
 ],
 "metadata": {
  "kernelspec": {
   "display_name": "Python 3",
   "language": "python",
   "name": "python3"
  },
  "language_info": {
   "codemirror_mode": {
    "name": "ipython",
    "version": 3
   },
   "file_extension": ".py",
   "mimetype": "text/x-python",
   "name": "python",
   "nbconvert_exporter": "python",
   "pygments_lexer": "ipython3",
   "version": "3.13.0"
  }
 },
 "nbformat": 4,
 "nbformat_minor": 2
}
