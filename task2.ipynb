{
 "cells": [
  {
   "cell_type": "code",
   "execution_count": 1,
   "id": "eba05fbf",
   "metadata": {},
   "outputs": [
    {
     "name": "stdout",
     "output_type": "stream",
     "text": [
      "Average Budget: 113125000.0\n",
      "Movies with budget higher than average:\n",
      "Dangal — higher by 136875000.0\n",
      "Punjab Nahi Jaungi — higher by 101875000.0\n",
      "Total movies with budget higher than average: 2\n"
     ]
    }
   ],
   "source": [
    "class MovieBudgetAnalyzer:\n",
    "    def __init__(self):\n",
    "        # Initial dataset of movies\n",
    "        self.movies = [\n",
    "            (\"3 Idiots\", 70000000),\n",
    "            (\"Dangal\", 250000000),\n",
    "            (\"Kabir Singh\", 85000000),\n",
    "            (\"Bol\", 55000000),\n",
    "            (\"War\", 30000000),\n",
    "            (\"Punjab Nahi Jaungi\", 215000000),\n",
    "            (\"Maula Jatt\", 100000000)\n",
    "        ]\n",
    "\n",
    "    def add_movies(self):\n",
    "        num = int(input(\"How many movies do you want to add: \"))\n",
    "        for i in range(num):\n",
    "            name = input(\"Enter movie name: \")\n",
    "            budget = int(input(\"Enter movie budget: \"))\n",
    "            self.movies.append((name, budget))\n",
    "\n",
    "    def calculate_average_budget(self):\n",
    "        total_budget = 0\n",
    "        for movie in self.movies:\n",
    "            total_budget += movie[1]\n",
    "        return total_budget / len(self.movies)\n",
    "\n",
    "    def find_budget(self, average_budget):\n",
    "        print(\"Movies with budget higher than average:\")\n",
    "        count = 0\n",
    "        for movie in self.movies:\n",
    "            name, budget = movie\n",
    "            if budget > average_budget:\n",
    "                print(f\"{name} — higher by {budget - average_budget}\")\n",
    "                count += 1\n",
    "        print(\"Total movies with budget higher than average:\", count)\n",
    "\n",
    "\n",
    "# Run Program\n",
    "analyzer = MovieBudgetAnalyzer()\n",
    "analyzer.add_movies()\n",
    "\n",
    "average = analyzer.calculate_average_budget()\n",
    "print(\"Average Budget:\", average)\n",
    "\n",
    "analyzer.find_budget(average)\n"
   ]
  }
 ],
 "metadata": {
  "kernelspec": {
   "display_name": "Python 3",
   "language": "python",
   "name": "python3"
  },
  "language_info": {
   "codemirror_mode": {
    "name": "ipython",
    "version": 3
   },
   "file_extension": ".py",
   "mimetype": "text/x-python",
   "name": "python",
   "nbconvert_exporter": "python",
   "pygments_lexer": "ipython3",
   "version": "3.13.7"
  }
 },
 "nbformat": 4,
 "nbformat_minor": 5
}
