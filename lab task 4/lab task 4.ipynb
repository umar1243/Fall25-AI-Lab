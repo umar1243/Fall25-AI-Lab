{
 "cells": [
  {
   "cell_type": "code",
   "execution_count": 1,
   "id": "c76b0353",
   "metadata": {},
   "outputs": [
    {
     "name": "stdout",
     "output_type": "stream",
     "text": [
      "Words sorted: apple banana cherry\n",
      "Letters sorted: aaabnn aelpp cehrry\n"
     ]
    }
   ],
   "source": [
    "def sort_words_manual(text):\n",
    "    words = text.split()\n",
    "    n = len(words)\n",
    "    for i in range(n):\n",
    "        for j in range(0, n-i-1):\n",
    "            if words[j].lower() > words[j+1].lower():\n",
    "                words[j], words[j+1] = words[j+1], words[j]\n",
    "    return \" \".join(words)\n",
    "\n",
    "def sort_letters_manual(text):\n",
    "    words = text.split()\n",
    "    sorted_words = []\n",
    "    for word in words:\n",
    "        letters = list(word)\n",
    "        n = len(letters)\n",
    "        for i in range(n):\n",
    "            for j in range(0, n-i-1):\n",
    "                if letters[j].lower() > letters[j+1].lower():\n",
    "                    letters[j], letters[j+1] = letters[j+1], letters[j]\n",
    "        sorted_words.append(\"\".join(letters))\n",
    "    return \" \".join(sorted_words)\n",
    "\n",
    "input_text = \"banana apple cherry\"\n",
    "print(\"Words sorted:\", sort_words_manual(input_text))\n",
    "print(\"Letters sorted:\", sort_letters_manual(input_text))"
   ]
  },
  {
   "cell_type": "code",
   "execution_count": 2,
   "id": "62baf7c0",
   "metadata": {},
   "outputs": [
    {
     "name": "stdout",
     "output_type": "stream",
     "text": [
      "Hello How are you 2025\n"
     ]
    }
   ],
   "source": [
    "def remove_special_characters(text):\n",
    "    result = \"\"\n",
    "    for char in text:\n",
    "        if char.isalnum() or char == \" \":\n",
    "            result += char\n",
    "    return result\n",
    "\n",
    "\n",
    "input_text = \"Hello! How are you? #2025\"\n",
    "print(remove_special_characters(input_text))\n"
   ]
  },
  {
   "cell_type": "code",
   "execution_count": 3,
   "id": "831f60c5",
   "metadata": {},
   "outputs": [
    {
     "name": "stdout",
     "output_type": "stream",
     "text": [
      "After removing last digit: 453201511283036\n",
      "Check digit: 6\n",
      "Reversed number: 630382115102354\n",
      "Digits: [6, 3, 0, 3, 8, 2, 1, 1, 5, 1, 0, 2, 3, 5, 4]\n",
      "Original digit at index 0: 6\n",
      "After multiplying by 2 and adjusting >9: 3\n",
      "Original digit at index 1: 3\n",
      "No change (not divisible by 2)\n",
      "Original digit at index 2: 0\n",
      "After multiplying by 2 and adjusting >9: 0\n",
      "Original digit at index 3: 3\n",
      "No change (not divisible by 2)\n",
      "Original digit at index 4: 8\n",
      "After multiplying by 2 and adjusting >9: 7\n",
      "Original digit at index 5: 2\n",
      "After multiplying by 2 and adjusting >9: 4\n",
      "Original digit at index 6: 1\n",
      "No change (not divisible by 2)\n",
      "Original digit at index 7: 1\n",
      "No change (not divisible by 2)\n",
      "Original digit at index 8: 5\n",
      "No change (not divisible by 2)\n",
      "Original digit at index 9: 1\n",
      "No change (not divisible by 2)\n",
      "Original digit at index 10: 0\n",
      "After multiplying by 2 and adjusting >9: 0\n",
      "Original digit at index 11: 2\n",
      "After multiplying by 2 and adjusting >9: 4\n",
      "Original digit at index 12: 3\n",
      "No change (not divisible by 2)\n",
      "Original digit at index 13: 5\n",
      "No change (not divisible by 2)\n",
      "Original digit at index 14: 4\n",
      "After multiplying by 2 and adjusting >9: 8\n",
      "Sum of digits: 48\n",
      "Total including check digit: 54\n",
      "Valid card? False\n"
     ]
    }
   ],
   "source": [
    "card_number = \"4532015112830366\"\n",
    "check_digit = int(card_number[-1])\n",
    "number = card_number[:-1]\n",
    "print(\"After removing last digit:\", number)\n",
    "print(\"Check digit:\", check_digit)\n",
    "\n",
    "reversed_number = number[::-1]\n",
    "print(\"Reversed number:\", reversed_number)\n",
    "\n",
    "digits = [int(d) for d in reversed_number]\n",
    "print(\"Digits:\", digits)\n",
    "\n",
    "for i in range(len(digits)):\n",
    "    print(f\"Original digit at index {i}: {digits[i]}\")\n",
    "    if digits[i] % 2 == 0:\n",
    "        digits[i] *= 2\n",
    "        if digits[i] > 9:\n",
    "            digits[i] -= 9\n",
    "        print(f\"After multiplying by 2 and adjusting >9: {digits[i]}\")\n",
    "    else:\n",
    "        print(\"No change (not divisible by 2)\")\n",
    "\n",
    "checksum = 0\n",
    "for d in digits:\n",
    "    checksum += d\n",
    "print(\"Sum of digits:\", checksum)\n",
    "\n",
    "total = checksum + check_digit\n",
    "is_valid = total % 10 == 0\n",
    "print(\"Total including check digit:\", total)\n",
    "print(\"Valid card?\", is_valid)"
   ]
  }
 ],
 "metadata": {
  "kernelspec": {
   "display_name": "Python 3",
   "language": "python",
   "name": "python3"
  },
  "language_info": {
   "codemirror_mode": {
    "name": "ipython",
    "version": 3
   },
   "file_extension": ".py",
   "mimetype": "text/x-python",
   "name": "python",
   "nbconvert_exporter": "python",
   "pygments_lexer": "ipython3",
   "version": "3.13.0"
  }
 },
 "nbformat": 4,
 "nbformat_minor": 5
}
