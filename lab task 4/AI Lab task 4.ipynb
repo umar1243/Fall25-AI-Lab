{
 "cells": [
  {
   "cell_type": "code",
   "execution_count": 2,
   "id": "4e566eab",
   "metadata": {},
   "outputs": [
    {
     "name": "stdout",
     "output_type": "stream",
     "text": [
      "Valid Card\n",
      "Hello My name is  Muhammad Umar\n",
      "Words arranged: is Muhammad My name Umar\n",
      "Letters arranged: My aemn is aadhMmmu amrU\n"
     ]
    }
   ],
   "source": [
    "\n",
    "\n",
    "\n",
    "def luhn_algorithm(card_number):\n",
    "    digits = [int(d) for d in str(card_number)]\n",
    "    numbers = digits.pop()\n",
    "    digits.reverse()\n",
    "\n",
    "    for i in range(0, len(digits), 2):\n",
    "        digits[i] *= 2\n",
    "        if digits[i] > 9:\n",
    "            digits[i] -= 9\n",
    "\n",
    "    total = sum(digits) + numbers\n",
    "    return total % 10 == 0\n",
    "card_number = 5590490233111416\n",
    "print(\"Valid Card\" if luhn_algorithm(card_number) else \"Invalid Card\")\n",
    "\n",
    "\n",
    "\n",
    "\n",
    "def remove_punctuations(text):\n",
    "    punctuations = '''!()-[]{};:'\",<>./?@#$%^&*_~'''\n",
    "    result = \"\"\n",
    "    for char in text:\n",
    "        if char not in punctuations:\n",
    "            result += char\n",
    "    return result\n",
    "text = \"Hello! My name is --- Muhammad Umar!\"\n",
    "print(remove_punctuations(text))\n",
    "\n",
    "\n",
    "\n",
    "\n",
    "def arrange_words(text):\n",
    "    parts = text.split()\n",
    "    n = len(parts)\n",
    "\n",
    "    for a in range(n):\n",
    "        for b in range(0, n - a - 1):\n",
    "            if parts[b].lower() > parts[b + 1].lower():\n",
    "                parts[b], parts[b + 1] = parts[b + 1], parts[b]\n",
    "\n",
    "    return \" \".join(parts)\n",
    "def arrange_letters(text):\n",
    "    words = text.split()\n",
    "    new_list = []\n",
    "\n",
    "    for item in words:\n",
    "        letters = list(item)\n",
    "        size = len(letters)\n",
    "\n",
    "        for x in range(size):\n",
    "            for y in range(0, size - x - 1):\n",
    "                if letters[y].lower() > letters[y + 1].lower():\n",
    "                    letters[y], letters[y + 1] = letters[y + 1], letters[y]\n",
    "\n",
    "        new_list.append(\"\".join(letters))\n",
    "\n",
    "    return \" \".join(new_list)\n",
    "\n",
    "line = \"My name is Muhammad Umar \"\n",
    "print(\"Words arranged:\", arrange_words(line))\n",
    "print(\"Letters arranged:\", arrange_letters(line))"
   ]
  }
 ],
 "metadata": {
  "kernelspec": {
   "display_name": "Python 3",
   "language": "python",
   "name": "python3"
  },
  "language_info": {
   "codemirror_mode": {
    "name": "ipython",
    "version": 3
   },
   "file_extension": ".py",
   "mimetype": "text/x-python",
   "name": "python",
   "nbconvert_exporter": "python",
   "pygments_lexer": "ipython3",
   "version": "3.13.7"
  }
 },
 "nbformat": 4,
 "nbformat_minor": 5
}
